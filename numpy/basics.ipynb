{
 "cells": [
  {
   "cell_type": "markdown",
   "id": "6e5e76db-9b31-451b-91db-3f9a4046affa",
   "metadata": {},
   "source": [
    "## Numpy "
   ]
  },
  {
   "cell_type": "code",
   "execution_count": 2,
   "id": "833e521e-1e13-42e2-a657-60a861d483a9",
   "metadata": {},
   "outputs": [],
   "source": [
    "import numpy as np"
   ]
  },
  {
   "cell_type": "markdown",
   "id": "e4dd1c9a-9de6-4ef9-b780-89ac295cd00b",
   "metadata": {},
   "source": [
    "### Creating Arrays"
   ]
  },
  {
   "cell_type": "code",
   "execution_count": 5,
   "id": "470586cb-4191-423b-8f49-c1c78a283ad1",
   "metadata": {},
   "outputs": [
    {
     "data": {
      "text/plain": [
       "array([1, 2, 3])"
      ]
     },
     "execution_count": 5,
     "metadata": {},
     "output_type": "execute_result"
    }
   ],
   "source": [
    "a = np.array([1,2,3])\n",
    "a"
   ]
  },
  {
   "cell_type": "code",
   "execution_count": 15,
   "id": "5cee6f66-0941-4028-8f29-ae0005ff3f4f",
   "metadata": {},
   "outputs": [
    {
     "name": "stdout",
     "output_type": "stream",
     "text": [
      "[[1 2 3]\n",
      " [4 5 6]] \n",
      "\n",
      "[[1.5 2.  3. ]\n",
      " [4.  5.  6. ]]\n"
     ]
    }
   ],
   "source": [
    "b = np.array([(1.5,2,3), (4,5,6)], dtype = int)\n",
    "print(b, '\\n')\n",
    "b = np.array([(1.5,2,3), (4,5,6)], dtype = float)\n",
    "print(b)"
   ]
  },
  {
   "cell_type": "code",
   "execution_count": 17,
   "id": "cf58d77e-374f-46d3-845f-89b5158d668f",
   "metadata": {},
   "outputs": [
    {
     "data": {
      "text/plain": [
       "array([[[1.5, 2. , 3. ],\n",
       "        [4. , 5. , 6. ]],\n",
       "\n",
       "       [[3. , 2. , 1. ],\n",
       "        [4. , 5. , 6. ]]])"
      ]
     },
     "execution_count": 17,
     "metadata": {},
     "output_type": "execute_result"
    }
   ],
   "source": [
    "c = np.array([[(1.5,2,3), (4,5,6)], [(3,2,1), (4,5,6)]],\n",
    " dtype = float)\n",
    "c"
   ]
  },
  {
   "cell_type": "markdown",
   "id": "f3b7503b-de61-45dd-91aa-48a0ce71e72f",
   "metadata": {},
   "source": [
    "## Initial Placeholders"
   ]
  },
  {
   "cell_type": "code",
   "execution_count": 22,
   "id": "34d11f37-daa7-49cb-a4cb-76b730c9d207",
   "metadata": {},
   "outputs": [
    {
     "data": {
      "text/plain": [
       "array([[0., 0., 0., 0.],\n",
       "       [0., 0., 0., 0.],\n",
       "       [0., 0., 0., 0.]])"
      ]
     },
     "execution_count": 22,
     "metadata": {},
     "output_type": "execute_result"
    }
   ],
   "source": [
    "np.zeros((3,4)) # Creates an array of zeros with 3 rows and 4 cols "
   ]
  },
  {
   "cell_type": "code",
   "execution_count": 26,
   "id": "3b066aad-0994-415f-99cf-effcb854781c",
   "metadata": {},
   "outputs": [
    {
     "data": {
      "text/plain": [
       "array([[[1, 1, 1, 1],\n",
       "        [1, 1, 1, 1],\n",
       "        [1, 1, 1, 1]],\n",
       "\n",
       "       [[1, 1, 1, 1],\n",
       "        [1, 1, 1, 1],\n",
       "        [1, 1, 1, 1]],\n",
       "\n",
       "       [[1, 1, 1, 1],\n",
       "        [1, 1, 1, 1],\n",
       "        [1, 1, 1, 1]],\n",
       "\n",
       "       [[1, 1, 1, 1],\n",
       "        [1, 1, 1, 1],\n",
       "        [1, 1, 1, 1]],\n",
       "\n",
       "       [[1, 1, 1, 1],\n",
       "        [1, 1, 1, 1],\n",
       "        [1, 1, 1, 1]]], dtype=int16)"
      ]
     },
     "execution_count": 26,
     "metadata": {},
     "output_type": "execute_result"
    }
   ],
   "source": [
    "np.ones((5,3,4), dtype=np.int16) # Create an array of ones with five batches"
   ]
  },
  {
   "cell_type": "code",
   "execution_count": 37,
   "id": "9b56f286-4fb2-4637-a571-9bd3b8e17f97",
   "metadata": {},
   "outputs": [
    {
     "data": {
      "text/plain": [
       "array([0, 1, 2, 3, 4, 5, 6, 7, 8, 9])"
      ]
     },
     "execution_count": 37,
     "metadata": {},
     "output_type": "execute_result"
    }
   ],
   "source": [
    "np.arange(10) # Creates an array of evenly spaced values"
   ]
  },
  {
   "cell_type": "code",
   "execution_count": 42,
   "id": "ed63da7c-adfb-424b-9b51-e0e57bdd6b60",
   "metadata": {},
   "outputs": [
    {
     "data": {
      "text/plain": [
       "array([0, 2, 4, 6, 8])"
      ]
     },
     "execution_count": 42,
     "metadata": {},
     "output_type": "execute_result"
    }
   ],
   "source": [
    "np.arange(0, 10, 2) # Create an array with 0 to 10 with step 2"
   ]
  },
  {
   "cell_type": "code",
   "execution_count": 43,
   "id": "e06a65f2-9438-4562-8071-736c425986a8",
   "metadata": {},
   "outputs": [
    {
     "data": {
      "text/plain": [
       "array([[0.57154018, 0.33893571, 0.51580685],\n",
       "       [0.54804861, 0.85189646, 0.0197984 ],\n",
       "       [0.44811626, 0.64675285, 0.83098652]])"
      ]
     },
     "execution_count": 43,
     "metadata": {},
     "output_type": "execute_result"
    }
   ],
   "source": [
    "random_arr = np.random.rand(3,3) # Creates an array of random values bw 0 and 1\n",
    "random_arr"
   ]
  },
  {
   "cell_type": "code",
   "execution_count": 46,
   "id": "e786fb9d-d85a-4169-a6e3-68fac2645043",
   "metadata": {},
   "outputs": [
    {
     "data": {
      "text/plain": [
       "array([0.  , 0.25, 0.5 , 0.75, 1.  ])"
      ]
     },
     "execution_count": 46,
     "metadata": {},
     "output_type": "execute_result"
    }
   ],
   "source": [
    "linspace = np.linspace(0, 1, 5) # 5 evenly spaced numbers from 0 to 1\n",
    "linspace"
   ]
  },
  {
   "cell_type": "markdown",
   "id": "dae88c31-ec16-4a95-9fb4-724602fac1cb",
   "metadata": {},
   "source": [
    "###  Array Dimensions"
   ]
  },
  {
   "cell_type": "code",
   "execution_count": 48,
   "id": "7f18ace8-f161-4aef-bb2b-e88f8c51eab9",
   "metadata": {},
   "outputs": [
    {
     "data": {
      "text/plain": [
       "(3, 3)"
      ]
     },
     "execution_count": 48,
     "metadata": {},
     "output_type": "execute_result"
    }
   ],
   "source": [
    "random_arr.shape # array dimensions"
   ]
  },
  {
   "cell_type": "code",
   "execution_count": 50,
   "id": "2fc7e1ed-8ffb-4eac-824b-a9ac296564eb",
   "metadata": {},
   "outputs": [
    {
     "data": {
      "text/plain": [
       "dtype('float64')"
      ]
     },
     "execution_count": 50,
     "metadata": {},
     "output_type": "execute_result"
    }
   ],
   "source": [
    "random_arr.dtype # data type"
   ]
  },
  {
   "cell_type": "code",
   "execution_count": 53,
   "id": "997ca90e-e84d-45f3-81e3-f56a1e7078ef",
   "metadata": {},
   "outputs": [
    {
     "data": {
      "text/plain": [
       "9"
      ]
     },
     "execution_count": 53,
     "metadata": {},
     "output_type": "execute_result"
    }
   ],
   "source": [
    "random_arr.size # total number of elements"
   ]
  },
  {
   "cell_type": "code",
   "execution_count": 55,
   "id": "7655c441-4eb0-4161-ab34-e71420e0225e",
   "metadata": {},
   "outputs": [
    {
     "data": {
      "text/plain": [
       "2"
      ]
     },
     "execution_count": 55,
     "metadata": {},
     "output_type": "execute_result"
    }
   ],
   "source": [
    "random_arr.ndim # number of dimensions"
   ]
  },
  {
   "cell_type": "markdown",
   "id": "d58f1002-8eed-4f48-86b1-3e2a89a8bde7",
   "metadata": {},
   "source": [
    "### Array Operations"
   ]
  },
  {
   "cell_type": "code",
   "execution_count": 63,
   "id": "f007fbb9-490f-4d3f-9ee6-9cd28725a003",
   "metadata": {},
   "outputs": [
    {
     "data": {
      "text/plain": [
       "array([[1, 2, 3],\n",
       "       [4, 5, 6]])"
      ]
     },
     "execution_count": 63,
     "metadata": {},
     "output_type": "execute_result"
    }
   ],
   "source": [
    "arr = np.array([(1,2,3), (4,5,6)], dtype = int)\n",
    "arr"
   ]
  },
  {
   "cell_type": "code",
   "execution_count": 64,
   "id": "49c22af3-1574-493f-b005-ae6a3b167d98",
   "metadata": {},
   "outputs": [
    {
     "name": "stdout",
     "output_type": "stream",
     "text": [
      "[[3 4 5]\n",
      " [6 7 8]] \n",
      "\n",
      "[[ 9 12 15]\n",
      " [18 21 24]]\n"
     ]
    }
   ],
   "source": [
    "arr = arr + 2\n",
    "print(arr, '\\n')\n",
    "\n",
    "arr = arr * 3\n",
    "print(arr)"
   ]
  },
  {
   "cell_type": "code",
   "execution_count": 65,
   "id": "e2a6db66-16f0-42ea-a703-2b1ff1d1a6ee",
   "metadata": {},
   "outputs": [],
   "source": [
    "arr1 = np.array([(1,2,3), (4,5,6)], dtype = int)\n",
    "arr2 = np.array([(1,2,3), (4,5,6)], dtype = int)"
   ]
  },
  {
   "cell_type": "code",
   "execution_count": 67,
   "id": "7461dd74-00c6-4b78-b619-cf4b1f6439e2",
   "metadata": {},
   "outputs": [
    {
     "data": {
      "text/plain": [
       "array([[ 2,  4,  6],\n",
       "       [ 8, 10, 12]])"
      ]
     },
     "execution_count": 67,
     "metadata": {},
     "output_type": "execute_result"
    }
   ],
   "source": [
    "arr1 + arr2 # Element wise addition"
   ]
  },
  {
   "cell_type": "code",
   "execution_count": 69,
   "id": "a2aff1ef-2f45-454b-a3d9-1f78658bc122",
   "metadata": {},
   "outputs": [
    {
     "data": {
      "text/plain": [
       "array([[ 1,  4,  9],\n",
       "       [16, 25, 36]])"
      ]
     },
     "execution_count": 69,
     "metadata": {},
     "output_type": "execute_result"
    }
   ],
   "source": [
    "arr1 * arr2 # Element wise multiplication"
   ]
  },
  {
   "cell_type": "code",
   "execution_count": 78,
   "id": "8e6170ef-933d-4cfd-997a-ae089653ba95",
   "metadata": {},
   "outputs": [
    {
     "data": {
      "text/plain": [
       "array([[30, 36, 42],\n",
       "       [66, 81, 96]])"
      ]
     },
     "execution_count": 78,
     "metadata": {},
     "output_type": "execute_result"
    }
   ],
   "source": [
    "arr3 = np.array([(1,2,3), (4,5,6), (7, 8, 9)], dtype = int)\n",
    "np.dot(arr1, arr3) # matrix multplication or dot product"
   ]
  },
  {
   "cell_type": "code",
   "execution_count": 80,
   "id": "e6c7a5fe-3f5b-46c2-87e8-4dbcfd5cd35c",
   "metadata": {},
   "outputs": [
    {
     "data": {
      "text/plain": [
       "21"
      ]
     },
     "execution_count": 80,
     "metadata": {},
     "output_type": "execute_result"
    }
   ],
   "source": [
    "arr1.sum()"
   ]
  },
  {
   "cell_type": "code",
   "execution_count": 81,
   "id": "bed08012-cd5c-48b6-ac92-78d626a0630b",
   "metadata": {},
   "outputs": [
    {
     "data": {
      "text/plain": [
       "3.5"
      ]
     },
     "execution_count": 81,
     "metadata": {},
     "output_type": "execute_result"
    }
   ],
   "source": [
    "arr1.mean()"
   ]
  },
  {
   "cell_type": "code",
   "execution_count": 82,
   "id": "ec11b8b4-16f1-4026-93fb-11f1898f1570",
   "metadata": {},
   "outputs": [
    {
     "data": {
      "text/plain": [
       "1.707825127659933"
      ]
     },
     "execution_count": 82,
     "metadata": {},
     "output_type": "execute_result"
    }
   ],
   "source": [
    "arr1.std()"
   ]
  },
  {
   "cell_type": "code",
   "execution_count": 83,
   "id": "e51ef5ee-1c41-4321-9e07-3f9d0be05a82",
   "metadata": {},
   "outputs": [
    {
     "data": {
      "text/plain": [
       "9"
      ]
     },
     "execution_count": 83,
     "metadata": {},
     "output_type": "execute_result"
    }
   ],
   "source": [
    "arr.min()"
   ]
  },
  {
   "cell_type": "code",
   "execution_count": 84,
   "id": "314c0997-b17b-4c09-a507-9df9e297aee5",
   "metadata": {},
   "outputs": [
    {
     "data": {
      "text/plain": [
       "24"
      ]
     },
     "execution_count": 84,
     "metadata": {},
     "output_type": "execute_result"
    }
   ],
   "source": [
    "arr.max()"
   ]
  },
  {
   "cell_type": "markdown",
   "id": "7870acd3-afc4-4d4b-97ff-c08bcd91eeb4",
   "metadata": {},
   "source": [
    "### Reshaping and Transposing"
   ]
  },
  {
   "cell_type": "code",
   "execution_count": 86,
   "id": "fd4eac4b-49b5-45b9-bb71-d4699731eb94",
   "metadata": {},
   "outputs": [
    {
     "data": {
      "text/plain": [
       "array([[1, 2],\n",
       "       [3, 4],\n",
       "       [5, 6]])"
      ]
     },
     "execution_count": 86,
     "metadata": {},
     "output_type": "execute_result"
    }
   ],
   "source": [
    "arr1.reshape(3,2) # Reshape array to 3*2"
   ]
  },
  {
   "cell_type": "code",
   "execution_count": 90,
   "id": "2c2877a7-4ad2-4004-a708-c58c602aa041",
   "metadata": {},
   "outputs": [
    {
     "data": {
      "text/plain": [
       "array([[1, 4],\n",
       "       [2, 5],\n",
       "       [3, 6]])"
      ]
     },
     "execution_count": 90,
     "metadata": {},
     "output_type": "execute_result"
    }
   ],
   "source": [
    "arr1.T # Transpose"
   ]
  },
  {
   "cell_type": "code",
   "execution_count": 92,
   "id": "3933755e-af09-413a-90aa-85ff56eeaf5d",
   "metadata": {},
   "outputs": [
    {
     "data": {
      "text/plain": [
       "array([1, 2, 3, 4, 5, 6])"
      ]
     },
     "execution_count": 92,
     "metadata": {},
     "output_type": "execute_result"
    }
   ],
   "source": [
    "arr1.ravel() # Flatten array"
   ]
  },
  {
   "cell_type": "markdown",
   "id": "ca8e67ae-5228-44fd-8451-4a245663bcca",
   "metadata": {},
   "source": [
    "### Indexing and Slicing "
   ]
  },
  {
   "cell_type": "code",
   "execution_count": 106,
   "id": "169331a0-813b-47f6-aa83-32b47ef9a252",
   "metadata": {},
   "outputs": [
    {
     "data": {
      "text/plain": [
       "array([[1, 2, 3],\n",
       "       [4, 5, 6],\n",
       "       [3, 2, 1],\n",
       "       [4, 5, 6]])"
      ]
     },
     "execution_count": 106,
     "metadata": {},
     "output_type": "execute_result"
    }
   ],
   "source": [
    "arr = np.array([(1.5,2,3), (4,5,6), (3,2,1), (4,5,6)],\n",
    " dtype = int)\n",
    "arr"
   ]
  },
  {
   "cell_type": "code",
   "execution_count": 110,
   "id": "9a3758c8-b82b-400f-9dde-ce04313b249b",
   "metadata": {},
   "outputs": [
    {
     "data": {
      "text/plain": [
       "array([[4, 5, 6],\n",
       "       [3, 2, 1]])"
      ]
     },
     "execution_count": 110,
     "metadata": {},
     "output_type": "execute_result"
    }
   ],
   "source": [
    "arr[1:3] # Slice from index 1 to 2"
   ]
  },
  {
   "cell_type": "code",
   "execution_count": 113,
   "id": "6f5eb480-5cd1-4e9a-96da-6489953733bf",
   "metadata": {},
   "outputs": [
    {
     "data": {
      "text/plain": [
       "array([[4, 5, 6],\n",
       "       [4, 5, 6]])"
      ]
     },
     "execution_count": 113,
     "metadata": {},
     "output_type": "execute_result"
    }
   ],
   "source": [
    "arr[1:4:2] # Slice with step 2 or odd elements"
   ]
  },
  {
   "cell_type": "code",
   "execution_count": 115,
   "id": "894be0b9-6e77-400e-ab2b-00cc36364666",
   "metadata": {},
   "outputs": [
    {
     "data": {
      "text/plain": [
       "array([[1, 2, 3],\n",
       "       [3, 2, 1]])"
      ]
     },
     "execution_count": 115,
     "metadata": {},
     "output_type": "execute_result"
    }
   ],
   "source": [
    "arr[0:4:2] # Slice with step 2 or even elements"
   ]
  },
  {
   "cell_type": "code",
   "execution_count": 117,
   "id": "46dc82a8-fcbd-44f1-b46c-fbf36debe271",
   "metadata": {},
   "outputs": [
    {
     "data": {
      "text/plain": [
       "array([[4, 5, 6],\n",
       "       [3, 2, 1],\n",
       "       [4, 5, 6],\n",
       "       [1, 2, 3]])"
      ]
     },
     "execution_count": 117,
     "metadata": {},
     "output_type": "execute_result"
    }
   ],
   "source": [
    "arr[::-1] # reverse array"
   ]
  },
  {
   "cell_type": "code",
   "execution_count": 127,
   "id": "ab8e8e61-676b-4cd0-8505-07858886df65",
   "metadata": {},
   "outputs": [
    {
     "data": {
      "text/plain": [
       "array([[1, 2],\n",
       "       [4, 5]])"
      ]
     },
     "execution_count": 127,
     "metadata": {},
     "output_type": "execute_result"
    }
   ],
   "source": [
    "arr[:2,:2]"
   ]
  },
  {
   "cell_type": "code",
   "execution_count": 129,
   "id": "e576ca4c-f2c3-4fd8-90e8-732edbd0393f",
   "metadata": {},
   "outputs": [
    {
     "name": "stdout",
     "output_type": "stream",
     "text": [
      "Last two Rows and Columns: \n",
      " [[13 15]\n",
      " [ 6  8]]\n"
     ]
    }
   ],
   "source": [
    "array1 = np.array([[1, 3, 5, 7], \n",
    "                      [9, 11, 13, 15],\n",
    "                      [2, 4, 6, 8]])\n",
    "\n",
    "\n",
    "subarray2 = array1[1:3, 2:4]\n",
    "\n",
    "print(\"Last two Rows and Columns: \\n\",subarray2)"
   ]
  },
  {
   "cell_type": "markdown",
   "id": "f7018458-a10c-46b9-a61d-40384218cf27",
   "metadata": {},
   "source": [
    "### Boolean Indexing "
   ]
  },
  {
   "cell_type": "code",
   "execution_count": 132,
   "id": "443a03c3-7f9c-4998-b01c-26de3080d29d",
   "metadata": {},
   "outputs": [
    {
     "data": {
      "text/plain": [
       "array([[False, False, False],\n",
       "       [ True,  True,  True],\n",
       "       [False, False, False],\n",
       "       [ True,  True,  True]])"
      ]
     },
     "execution_count": 132,
     "metadata": {},
     "output_type": "execute_result"
    }
   ],
   "source": [
    "mask = arr > 3 # Creates boolean mask\n",
    "mask"
   ]
  },
  {
   "cell_type": "code",
   "execution_count": 134,
   "id": "38bbb8ee-63e2-43e5-8647-d445dbe2b8e1",
   "metadata": {},
   "outputs": [
    {
     "data": {
      "text/plain": [
       "array([4, 5, 6, 4, 5, 6])"
      ]
     },
     "execution_count": 134,
     "metadata": {},
     "output_type": "execute_result"
    }
   ],
   "source": [
    "arr[mask] # get elements where mask is true"
   ]
  },
  {
   "cell_type": "code",
   "execution_count": 139,
   "id": "394e0b0a-6716-4c53-b9d1-0566212b3acc",
   "metadata": {},
   "outputs": [
    {
     "data": {
      "text/plain": [
       "array([4, 5, 6, 4, 5, 6])"
      ]
     },
     "execution_count": 139,
     "metadata": {},
     "output_type": "execute_result"
    }
   ],
   "source": [
    "mask = (arr > 3) & (arr < 7)\n",
    "arr[mask] # combined conditions"
   ]
  },
  {
   "cell_type": "markdown",
   "id": "c7d9e579-b9b8-4b46-ab49-adefc8a78ad1",
   "metadata": {},
   "source": [
    "### Broadcasting "
   ]
  },
  {
   "cell_type": "code",
   "execution_count": 142,
   "id": "ae774c98-6076-431c-bab0-48678cc3288f",
   "metadata": {},
   "outputs": [
    {
     "data": {
      "text/plain": [
       "array([[5, 6, 7],\n",
       "       [6, 7, 8],\n",
       "       [7, 8, 9]])"
      ]
     },
     "execution_count": 142,
     "metadata": {},
     "output_type": "execute_result"
    }
   ],
   "source": [
    "arr1 = np.array([1, 2, 3])\n",
    "arr2 = np.array([[4], [5], [6]])\n",
    "result = arr1 + arr2\n",
    "result"
   ]
  },
  {
   "cell_type": "markdown",
   "id": "07069ae0-b0fe-4d89-8d37-f05b1f786451",
   "metadata": {},
   "source": [
    "### Linear Algebra"
   ]
  },
  {
   "cell_type": "code",
   "execution_count": 148,
   "id": "dceaaa69-a576-42be-b504-288d529bc01c",
   "metadata": {},
   "outputs": [
    {
     "data": {
      "text/plain": [
       "array([[0.57154018, 0.33893571, 0.51580685],\n",
       "       [0.54804861, 0.85189646, 0.0197984 ],\n",
       "       [0.44811626, 0.64675285, 0.83098652]])"
      ]
     },
     "execution_count": 148,
     "metadata": {},
     "output_type": "execute_result"
    }
   ],
   "source": [
    "random_arr"
   ]
  },
  {
   "cell_type": "code",
   "execution_count": 150,
   "id": "f17555bc-9cf7-4389-ba5f-291daa0678a5",
   "metadata": {},
   "outputs": [
    {
     "data": {
      "text/plain": [
       "array([[ 2.99807588,  0.2240591 , -1.86629272],\n",
       "       [-1.92600917,  1.05153623,  1.17045219],\n",
       "       [-0.1177331 , -0.93923134,  1.29884516]])"
      ]
     },
     "execution_count": 150,
     "metadata": {},
     "output_type": "execute_result"
    }
   ],
   "source": [
    "np.linalg.inv(random_arr) # Inverse Matrix"
   ]
  },
  {
   "cell_type": "code",
   "execution_count": 152,
   "id": "0bff468e-0d4b-4f92-b731-e66b3f8b3e8d",
   "metadata": {},
   "outputs": [
    {
     "data": {
      "text/plain": [
       "0.23185197297542073"
      ]
     },
     "execution_count": 152,
     "metadata": {},
     "output_type": "execute_result"
    }
   ],
   "source": [
    "np.linalg.det(random_arr) # matrix determinant"
   ]
  },
  {
   "cell_type": "code",
   "execution_count": 154,
   "id": "19043e93-970f-425b-bcb4-a7d457632313",
   "metadata": {},
   "outputs": [
    {
     "data": {
      "text/plain": [
       "array([-1.,  1.])"
      ]
     },
     "execution_count": 154,
     "metadata": {},
     "output_type": "execute_result"
    }
   ],
   "source": [
    "a = np.array([[1, 2], [3, 5]])\n",
    "b = np.array([1, 2])\n",
    "# a = 1x + 2y = 1 \n",
    "# b = 3x + 5y = 2\n",
    "np.linalg.solve(a, b) # Solve matrix linear equations"
   ]
  },
  {
   "cell_type": "markdown",
   "id": "d8739870-22f3-4bf0-bbc0-df2c06711d31",
   "metadata": {},
   "source": [
    "## Statistics"
   ]
  },
  {
   "cell_type": "code",
   "execution_count": 157,
   "id": "38b34bf1-66da-4d0d-b9bc-e63b9c122507",
   "metadata": {},
   "outputs": [
    {
     "data": {
      "text/plain": [
       "array([[1, 2, 3],\n",
       "       [4, 5, 6],\n",
       "       [3, 2, 1],\n",
       "       [4, 5, 6]])"
      ]
     },
     "execution_count": 157,
     "metadata": {},
     "output_type": "execute_result"
    }
   ],
   "source": [
    "arr"
   ]
  },
  {
   "cell_type": "code",
   "execution_count": 158,
   "id": "e0772c6b-215a-400d-a402-a797503ced28",
   "metadata": {},
   "outputs": [
    {
     "data": {
      "text/plain": [
       "3.5"
      ]
     },
     "execution_count": 158,
     "metadata": {},
     "output_type": "execute_result"
    }
   ],
   "source": [
    "np.median(arr)"
   ]
  },
  {
   "cell_type": "code",
   "execution_count": 161,
   "id": "498638ee-dbdc-4e4e-83b8-9143a19d58bc",
   "metadata": {},
   "outputs": [
    {
     "data": {
      "text/plain": [
       "5.0"
      ]
     },
     "execution_count": 161,
     "metadata": {},
     "output_type": "execute_result"
    }
   ],
   "source": [
    "np.percentile(arr, 75) # 75th percentile"
   ]
  },
  {
   "cell_type": "code",
   "execution_count": 163,
   "id": "092027bf-9466-4b3c-af0c-4719208b2706",
   "metadata": {},
   "outputs": [
    {
     "data": {
      "text/plain": [
       "array([[1., 1., 1.],\n",
       "       [1., 1., 1.],\n",
       "       [1., 1., 1.]])"
      ]
     },
     "execution_count": 163,
     "metadata": {},
     "output_type": "execute_result"
    }
   ],
   "source": [
    "np.corrcoef(a, b) # correlation coefficient"
   ]
  },
  {
   "cell_type": "code",
   "execution_count": 165,
   "id": "53575be6-b8fc-4ca3-a0f8-0a313929e254",
   "metadata": {},
   "outputs": [
    {
     "data": {
      "text/plain": [
       "array([[0.5, 1. , 0.5],\n",
       "       [1. , 2. , 1. ],\n",
       "       [0.5, 1. , 0.5]])"
      ]
     },
     "execution_count": 165,
     "metadata": {},
     "output_type": "execute_result"
    }
   ],
   "source": [
    "np.cov(a, b) # Covariance"
   ]
  },
  {
   "cell_type": "markdown",
   "id": "6fcafc6f-7f12-4e6a-b73d-b8f94d7fdd6b",
   "metadata": {},
   "source": [
    "### Advanced Array Operations "
   ]
  },
  {
   "cell_type": "code",
   "execution_count": 174,
   "id": "80f16561-0807-4614-b54c-70214b4f5ddb",
   "metadata": {},
   "outputs": [
    {
     "data": {
      "text/plain": [
       "array([[ 1,  2,  3],\n",
       "       [ 4,  5,  6],\n",
       "       [ 7,  8,  9],\n",
       "       [10, 11, 12]])"
      ]
     },
     "execution_count": 174,
     "metadata": {},
     "output_type": "execute_result"
    }
   ],
   "source": [
    "a = np.array([(1,2,3), (4,5,6)], dtype = int)\n",
    "b = np.array([(7,8,9), (10,11,12)], dtype = int)\n",
    "np.concatenate((a, b))"
   ]
  },
  {
   "cell_type": "code",
   "execution_count": 177,
   "id": "7731dd5d-aa92-4042-9c5e-5930b1d6fe3b",
   "metadata": {},
   "outputs": [
    {
     "data": {
      "text/plain": [
       "array([[ 7,  8,  9],\n",
       "       [10, 11, 12],\n",
       "       [ 1,  2,  3],\n",
       "       [ 4,  5,  6]])"
      ]
     },
     "execution_count": 177,
     "metadata": {},
     "output_type": "execute_result"
    }
   ],
   "source": [
    "np.vstack((b, a)) # vertical stack"
   ]
  },
  {
   "cell_type": "code",
   "execution_count": 179,
   "id": "2eaeb8a9-734d-442f-8149-6e41211d1e34",
   "metadata": {},
   "outputs": [
    {
     "data": {
      "text/plain": [
       "array([[ 7,  8,  9,  1,  2,  3],\n",
       "       [10, 11, 12,  4,  5,  6]])"
      ]
     },
     "execution_count": 179,
     "metadata": {},
     "output_type": "execute_result"
    }
   ],
   "source": [
    "np.hstack((b, a)) # horizontal stack"
   ]
  },
  {
   "cell_type": "code",
   "execution_count": 186,
   "id": "4a20bbe5-04b9-41c5-bee0-b8e98019fa00",
   "metadata": {},
   "outputs": [
    {
     "data": {
      "text/plain": [
       "[array([[1, 2, 3]]), array([[4, 5, 6]])]"
      ]
     },
     "execution_count": 186,
     "metadata": {},
     "output_type": "execute_result"
    }
   ],
   "source": [
    "np.split(a, 2) # Split array into 2 parts"
   ]
  },
  {
   "cell_type": "markdown",
   "id": "d197e354-5dd5-42bd-8c26-28cc5f290d74",
   "metadata": {},
   "source": [
    "### Structured Arrays"
   ]
  },
  {
   "cell_type": "code",
   "execution_count": 187,
   "id": "48603cf6-c99e-4bb2-a29a-ae25c944b156",
   "metadata": {},
   "outputs": [
    {
     "data": {
      "text/plain": [
       "dtype([('name', '<U10'), ('age', '<i4')])"
      ]
     },
     "execution_count": 187,
     "metadata": {},
     "output_type": "execute_result"
    }
   ],
   "source": [
    "dt = np.dtype([('name', 'U10'), ('age', 'i4')])\n",
    "dt"
   ]
  },
  {
   "cell_type": "code",
   "execution_count": 189,
   "id": "40842dc1-08c8-4ab1-9f40-27dc86692854",
   "metadata": {},
   "outputs": [
    {
     "data": {
      "text/plain": [
       "array([('John', 25), ('Jane', 30)],\n",
       "      dtype=[('name', '<U10'), ('age', '<i4')])"
      ]
     },
     "execution_count": 189,
     "metadata": {},
     "output_type": "execute_result"
    }
   ],
   "source": [
    "struct_arr = np.array([('John', 25), ('Jane', 30)], dtype=dt)\n",
    "struct_arr"
   ]
  },
  {
   "cell_type": "markdown",
   "id": "8a4ed2a8-f041-4d37-9ac0-cc2d9e56e413",
   "metadata": {},
   "source": [
    "### Memory views"
   ]
  },
  {
   "cell_type": "code",
   "execution_count": 191,
   "id": "6e0a885c-42e0-4a12-b84d-78d417852026",
   "metadata": {},
   "outputs": [
    {
     "data": {
      "text/plain": [
       "  C_CONTIGUOUS : True\n",
       "  F_CONTIGUOUS : False\n",
       "  OWNDATA : True\n",
       "  WRITEABLE : True\n",
       "  ALIGNED : True\n",
       "  WRITEBACKIFCOPY : False"
      ]
     },
     "execution_count": 191,
     "metadata": {},
     "output_type": "execute_result"
    }
   ],
   "source": [
    "arr.flags # Memory layout information"
   ]
  },
  {
   "cell_type": "code",
   "execution_count": 193,
   "id": "eb96871f-0e13-4c7e-97cb-596667dbd004",
   "metadata": {},
   "outputs": [
    {
     "data": {
      "text/plain": [
       "(24, 8)"
      ]
     },
     "execution_count": 193,
     "metadata": {},
     "output_type": "execute_result"
    }
   ],
   "source": [
    "arr.strides # Tuple of bytes to step in each dimension"
   ]
  },
  {
   "cell_type": "markdown",
   "id": "cbd3a90a-2239-4ed7-a532-b88fc96b9104",
   "metadata": {},
   "source": [
    "### Universal Functions "
   ]
  },
  {
   "cell_type": "code",
   "execution_count": 195,
   "id": "f76a3e78-08b9-4882-b12e-c5acad8f469e",
   "metadata": {},
   "outputs": [
    {
     "data": {
      "text/plain": [
       "array([[1, 2, 3],\n",
       "       [4, 5, 6],\n",
       "       [3, 2, 1],\n",
       "       [4, 5, 6]])"
      ]
     },
     "execution_count": 195,
     "metadata": {},
     "output_type": "execute_result"
    }
   ],
   "source": [
    "arr"
   ]
  },
  {
   "cell_type": "code",
   "execution_count": 196,
   "id": "3958d593-1908-4080-8569-8addc3fe45d2",
   "metadata": {},
   "outputs": [
    {
     "data": {
      "text/plain": [
       "array([12, 14, 16])"
      ]
     },
     "execution_count": 196,
     "metadata": {},
     "output_type": "execute_result"
    }
   ],
   "source": [
    "np.add.reduce(arr) # Sum all elements column wise"
   ]
  },
  {
   "cell_type": "code",
   "execution_count": 198,
   "id": "1ca4bee4-05d6-4072-b845-ed7d395a6eaf",
   "metadata": {},
   "outputs": [
    {
     "data": {
      "text/plain": [
       "array([[  1,   2,   3],\n",
       "       [  4,  10,  18],\n",
       "       [ 12,  20,  18],\n",
       "       [ 48, 100, 108]])"
      ]
     },
     "execution_count": 198,
     "metadata": {},
     "output_type": "execute_result"
    }
   ],
   "source": [
    "np.multiply.accumulate(arr)  # Running product "
   ]
  },
  {
   "cell_type": "markdown",
   "id": "48cbacd2-3354-4c46-bd4c-d1e25e56f1b2",
   "metadata": {},
   "source": [
    "### Optimization"
   ]
  },
  {
   "cell_type": "code",
   "execution_count": 200,
   "id": "b4db509d-0b5a-410b-bb6c-33a9614f2bd5",
   "metadata": {},
   "outputs": [
    {
     "data": {
      "text/plain": [
       "array([[ 1,  4,  9],\n",
       "       [16, 25, 36],\n",
       "       [ 9,  4,  1],\n",
       "       [16, 25, 36]])"
      ]
     },
     "execution_count": 200,
     "metadata": {},
     "output_type": "execute_result"
    }
   ],
   "source": [
    "arr = np.vectorize(lambda x: x**2)(arr)\n",
    "arr"
   ]
  }
 ],
 "metadata": {
  "kernelspec": {
   "display_name": "cnn",
   "language": "python",
   "name": "cnn"
  },
  "language_info": {
   "codemirror_mode": {
    "name": "ipython",
    "version": 3
   },
   "file_extension": ".py",
   "mimetype": "text/x-python",
   "name": "python",
   "nbconvert_exporter": "python",
   "pygments_lexer": "ipython3",
   "version": "3.9.20"
  }
 },
 "nbformat": 4,
 "nbformat_minor": 5
}
